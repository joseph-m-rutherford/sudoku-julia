{
 "cells": [
  {
   "cell_type": "markdown",
   "id": "8e76fa59",
   "metadata": {},
   "source": [
    "Copyright (c) 2021, Joseph M. Rutherford\n",
    "All rights reserved.\n",
    "\n",
    "Code provided under the license contained in the LICENSE file."
   ]
  },
  {
   "cell_type": "code",
   "execution_count": 1,
   "id": "bd03279d-982c-461c-81e5-9fc2f87715d8",
   "metadata": {},
   "outputs": [
    {
     "data": {
      "text/plain": [
       "Main.Sudoku"
      ]
     },
     "execution_count": 1,
     "metadata": {},
     "output_type": "execute_result"
    }
   ],
   "source": [
    "include(\"sudoku.jl\")"
   ]
  },
  {
   "cell_type": "code",
   "execution_count": 2,
   "id": "27c3e1cc",
   "metadata": {},
   "outputs": [
    {
     "name": "stdout",
     "output_type": "stream",
     "text": [
      "\u001b[0m\u001b[1mTest Summary:             | \u001b[22m\u001b[32m\u001b[1mPass  \u001b[22m\u001b[39m\u001b[36m\u001b[1mTotal\u001b[22m\u001b[39m\n",
      "Sudoku Puzzle definitions | \u001b[32m 108  \u001b[39m\u001b[36m  108\u001b[39m\n",
      "\u001b[0m\u001b[1mTest Summary:      | \u001b[22m\u001b[32m\u001b[1mPass  \u001b[22m\u001b[39m\u001b[36m\u001b[1mTotal\u001b[22m\u001b[39m\n",
      "Permutations check | \u001b[32m   6  \u001b[39m\u001b[36m    6\u001b[39m\n",
      "\u001b[0m\u001b[1mTest Summary:                  | \u001b[22m\u001b[32m\u001b[1m   Pass  \u001b[22m\u001b[39m\u001b[36m\u001b[1m  Total\u001b[22m\u001b[39m\n",
      "Composition helpers statistics | \u001b[32m1500254  \u001b[39m\u001b[36m1500254\u001b[39m\n",
      "\u001b[0m\u001b[1mTest Summary:       | \u001b[22m\u001b[32m\u001b[1mPass  \u001b[22m\u001b[39m\u001b[36m\u001b[1mTotal\u001b[22m\u001b[39m\n",
      "Composition helpers | \u001b[32m1002  \u001b[39m\u001b[36m 1002\u001b[39m\n",
      "\u001b[0m\u001b[1mTest Summary:          | \u001b[22m\u001b[32m\u001b[1mPass  \u001b[22m\u001b[39m\u001b[36m\u001b[1mTotal\u001b[22m\u001b[39m\n",
      "Puzzle validity checks | \u001b[32m   5  \u001b[39m\u001b[36m    5\u001b[39m\n",
      "\u001b[0m\u001b[1mTest Summary:    | \u001b[22m\u001b[32m\u001b[1mPass  \u001b[22m\u001b[39m\u001b[36m\u001b[1mTotal\u001b[22m\u001b[39m\n",
      "Solution helpers | \u001b[32m4250  \u001b[39m\u001b[36m 4250\u001b[39m\n"
     ]
    },
    {
     "data": {
      "text/plain": [
       "Main.SudokuTester"
      ]
     },
     "execution_count": 2,
     "metadata": {},
     "output_type": "execute_result"
    }
   ],
   "source": [
    "include(\"sudoku_tester.jl\")"
   ]
  },
  {
   "cell_type": "code",
   "execution_count": 3,
   "id": "47526dd8",
   "metadata": {},
   "outputs": [
    {
     "name": "stdout",
     "output_type": "stream",
     "text": [
      "-----------------------\n",
      "||3|4|2||9|7|6||1|5|8||\n",
      "||6|7|9||1|5|8||4|3|2||\n",
      "||5|1|8||2|4|3||9|7|6||\n",
      "-----------------------\n",
      "||8|5|1||4|3|2||7|6|9||\n",
      "||2|3|4||7|6|9||5|8|1||\n",
      "||9|6|7||5|8|1||3|2|4||\n",
      "-----------------------\n",
      "||1|8|5||3|2|4||6|9|7||\n",
      "||4|2|3||6|9|7||8|1|5||\n",
      "||7|9|6||8|1|5||2|4|3||\n",
      "-----------------------\n",
      "-----------------------\n",
      "||3|4| ||9|7|6||1|5|8||\n",
      "||6|7|9|| | |8||4|3|2||\n",
      "||5|1| ||2|4| ||9|7| ||\n",
      "-----------------------\n",
      "|| |5|1||4| |2||7|6| ||\n",
      "||2| |4|| | |9||5|8| ||\n",
      "||9|6|7|| |8|1||3|2| ||\n",
      "-----------------------\n",
      "||1|8|5|| |2| ||6|9|7||\n",
      "||4|2|3||6|9|7||8|1| ||\n",
      "||7|9|6||8|1|5||2| | ||\n",
      "-----------------------\n"
     ]
    }
   ],
   "source": [
    "using Random\n",
    "solution, puzzle = Sudoku.random_puzzle(3,MersenneTwister(12345),1000,20)\n",
    "print(Sudoku.as_text_grid(solution))\n",
    "print(Sudoku.as_text_grid(puzzle))"
   ]
  },
  {
   "cell_type": "code",
   "execution_count": 4,
   "id": "ec657fb5",
   "metadata": {},
   "outputs": [
    {
     "name": "stdout",
     "output_type": "stream",
     "text": [
      "\n",
      "-----------------------\n",
      "||3|4|2||9|7|6||1|5|8||\n",
      "||6|7|9||1|5|8||4|3|2||\n",
      "||5|1|8||2|4|3||9|7|6||\n",
      "-----------------------\n",
      "||8|5|1||4|3|2||7|6|9||\n",
      "||2|3|4||7|6|9||5|8|1||\n",
      "||9|6|7||5|8|1||3|2|4||\n",
      "-----------------------\n",
      "||1|8|5||3|2|4||6|9|7||\n",
      "||4|2|3||6|9|7||8|1|5||\n",
      "||7|9|6||8|1|5||2|4|3||\n",
      "-----------------------\n"
     ]
    }
   ],
   "source": [
    "Sudoku.solve_puzzle!(puzzle)\n",
    "print('\\n')\n",
    "print(Sudoku.as_text_grid(puzzle))"
   ]
  },
  {
   "cell_type": "code",
   "execution_count": 5,
   "id": "9d872fe6",
   "metadata": {},
   "outputs": [
    {
     "data": {
      "text/plain": [
       "false"
      ]
     },
     "execution_count": 5,
     "metadata": {},
     "output_type": "execute_result"
    }
   ],
   "source": [
    "puzzle == solution"
   ]
  },
  {
   "cell_type": "code",
   "execution_count": null,
   "id": "8b6147af",
   "metadata": {},
   "outputs": [],
   "source": []
  }
 ],
 "metadata": {
  "kernelspec": {
   "display_name": "Julia 1.7.1",
   "language": "julia",
   "name": "julia-1.7"
  },
  "language_info": {
   "file_extension": ".jl",
   "mimetype": "application/julia",
   "name": "julia",
   "version": "1.7.1"
  }
 },
 "nbformat": 4,
 "nbformat_minor": 5
}
