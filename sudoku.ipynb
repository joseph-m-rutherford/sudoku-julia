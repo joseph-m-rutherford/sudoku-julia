{
 "cells": [
  {
   "cell_type": "markdown",
   "id": "8e76fa59",
   "metadata": {},
   "source": [
    "Copyright (c) 2021, Joseph M. Rutherford\n",
    "All rights reserved.\n",
    "\n",
    "Code provided under the license contained in the LICENSE file."
   ]
  },
  {
   "cell_type": "code",
   "execution_count": 1,
   "id": "bd03279d-982c-461c-81e5-9fc2f87715d8",
   "metadata": {},
   "outputs": [
    {
     "data": {
      "text/plain": [
       "Main.Sudoku"
      ]
     },
     "execution_count": 1,
     "metadata": {},
     "output_type": "execute_result"
    }
   ],
   "source": [
    "include(\"sudoku.jl\")"
   ]
  },
  {
   "cell_type": "code",
   "execution_count": 2,
   "id": "27c3e1cc",
   "metadata": {},
   "outputs": [
    {
     "name": "stdout",
     "output_type": "stream",
     "text": [
      "\u001b[0m\u001b[1mTest Summary:             | \u001b[22m\u001b[32m\u001b[1mPass  \u001b[22m\u001b[39m\u001b[36m\u001b[1mTotal\u001b[22m\u001b[39m\n",
      "Sudoku Puzzle definitions | \u001b[32m  75  \u001b[39m\u001b[36m   75\u001b[39m\n",
      "\u001b[0m\u001b[1mTest Summary:      | \u001b[22m\u001b[32m\u001b[1mPass  \u001b[22m\u001b[39m\u001b[36m\u001b[1mTotal\u001b[22m\u001b[39m\n",
      "Permutations check | \u001b[32m   6  \u001b[39m\u001b[36m    6\u001b[39m\n",
      "\u001b[0m\u001b[1mTest Summary:                  | \u001b[22m\u001b[32m\u001b[1m   Pass  \u001b[22m\u001b[39m\u001b[36m\u001b[1m  Total\u001b[22m\u001b[39m\n",
      "Composition helpers statistics | \u001b[32m2857974  \u001b[39m\u001b[36m2857974\u001b[39m\n",
      "\u001b[0m\u001b[1mTest Summary:          | \u001b[22m\u001b[32m\u001b[1mPass  \u001b[22m\u001b[39m\u001b[36m\u001b[1mTotal\u001b[22m\u001b[39m\n",
      "Puzzle validity checks | \u001b[32m   5  \u001b[39m\u001b[36m    5\u001b[39m\n"
     ]
    },
    {
     "data": {
      "text/plain": [
       "Main.SudokuTester"
      ]
     },
     "execution_count": 2,
     "metadata": {},
     "output_type": "execute_result"
    }
   ],
   "source": [
    "include(\"sudoku_tester.jl\")"
   ]
  },
  {
   "cell_type": "code",
   "execution_count": 3,
   "id": "47526dd8",
   "metadata": {},
   "outputs": [
    {
     "name": "stdout",
     "output_type": "stream",
     "text": [
      "-----------------------\n",
      "||8|3|7||6|2|9||4|5|1||\n",
      "||5|1|4||7|3|8||2|6|9||\n",
      "||2|6|9||1|5|4||8|3|7||\n",
      "-----------------------\n",
      "||3|7|8||9|6|2||5|1|4||\n",
      "||1|4|5||8|7|3||6|9|2||\n",
      "||6|9|2||4|1|5||3|7|8||\n",
      "-----------------------\n",
      "||7|8|3||2|9|6||1|4|5||\n",
      "||4|5|1||3|8|7||9|2|6||\n",
      "||9|2|6||5|4|1||7|8|3||\n",
      "-----------------------\n",
      "-----------------------\n",
      "||8|3|7||6|2|9|| | |1||\n",
      "||5|1|4||7|3| ||2|6|9||\n",
      "||2|6| || | | ||8|3| ||\n",
      "-----------------------\n",
      "||3|7| || |6|2||5|1|4||\n",
      "||1|4|5||8|7|3||6| |2||\n",
      "||6|9|2||4| |5||3|7| ||\n",
      "-----------------------\n",
      "||7|8| ||2|9|6|| |4|5||\n",
      "||4|5|1||3| |7||9|2| ||\n",
      "||9| |6||5|4| || |8|3||\n",
      "-----------------------\n"
     ]
    }
   ],
   "source": [
    "using Random\n",
    "solution, puzzle = Sudoku.random_puzzle(3,MersenneTwister(12345),100,20)\n",
    "print(Sudoku.as_text_grid(solution))\n",
    "print(Sudoku.as_text_grid(puzzle))"
   ]
  },
  {
   "cell_type": "code",
   "execution_count": 4,
   "id": "ec657fb5",
   "metadata": {},
   "outputs": [
    {
     "name": "stdout",
     "output_type": "stream",
     "text": [
      "Iteration 2 Uncertainty 0\n",
      "-----------------------\n",
      "||8|3|7||6|2|9||4|5|1||\n",
      "||5|1|4||7|3|8||2|6|9||\n",
      "||2|6|9||1|5|4||8|3|7||\n",
      "-----------------------\n",
      "||3|7|8||9|6|2||5|1|4||\n",
      "||1|4|5||8|7|3||6|9|2||\n",
      "||6|9|2||4|1|5||3|7|8||\n",
      "-----------------------\n",
      "||7|8|3||2|9|6||1|4|5||\n",
      "||4|5|1||3|8|7||9|2|6||\n",
      "||9|2|6||5|4|1||7|8|3||\n",
      "-----------------------\n"
     ]
    }
   ],
   "source": [
    "Sudoku.solve_puzzle!(puzzle)\n",
    "print('\\n')\n",
    "print(Sudoku.as_text_grid(puzzle))"
   ]
  },
  {
   "cell_type": "code",
   "execution_count": 5,
   "id": "9d872fe6",
   "metadata": {},
   "outputs": [
    {
     "data": {
      "text/plain": [
       "false"
      ]
     },
     "execution_count": 5,
     "metadata": {},
     "output_type": "execute_result"
    }
   ],
   "source": [
    "puzzle == solution"
   ]
  },
  {
   "cell_type": "code",
   "execution_count": null,
   "id": "2ff425aa",
   "metadata": {},
   "outputs": [],
   "source": []
  }
 ],
 "metadata": {
  "kernelspec": {
   "display_name": "Julia 1.7.1",
   "language": "julia",
   "name": "julia-1.7"
  },
  "language_info": {
   "file_extension": ".jl",
   "mimetype": "application/julia",
   "name": "julia",
   "version": "1.7.1"
  }
 },
 "nbformat": 4,
 "nbformat_minor": 5
}
