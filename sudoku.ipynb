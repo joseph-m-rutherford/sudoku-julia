{
 "cells": [
  {
   "cell_type": "markdown",
   "id": "8e76fa59",
   "metadata": {},
   "source": [
    "Copyright (c) 2021, Joseph M. Rutherford\n",
    "All rights reserved.\n",
    "\n",
    "Code provided under the license contained in the LICENSE file."
   ]
  },
  {
   "cell_type": "code",
   "execution_count": 1,
   "id": "bd03279d-982c-461c-81e5-9fc2f87715d8",
   "metadata": {},
   "outputs": [
    {
     "data": {
      "text/plain": [
       "Main.Sudoku"
      ]
     },
     "execution_count": 1,
     "metadata": {},
     "output_type": "execute_result"
    }
   ],
   "source": [
    "include(\"src/sudoku.jl\")"
   ]
  },
  {
   "cell_type": "code",
   "execution_count": 2,
   "id": "27c3e1cc",
   "metadata": {},
   "outputs": [
    {
     "name": "stdout",
     "output_type": "stream",
     "text": [
      "\u001b[0m\u001b[1mTest Summary:             | \u001b[22m\u001b[32m\u001b[1m   Pass  \u001b[22m\u001b[39m\u001b[36m\u001b[1m  Total\u001b[22m\u001b[39m\n",
      "Sudoku puzzle             | \u001b[32m1505625  \u001b[39m\u001b[36m1505625\u001b[39m\n",
      "  Common definitions      | \u001b[32m    108  \u001b[39m\u001b[36m    108\u001b[39m\n",
      "  Permutations helpers    | \u001b[32m      6  \u001b[39m\u001b[36m      6\u001b[39m\n",
      "  Composition helpers     | \u001b[32m   1002  \u001b[39m\u001b[36m   1002\u001b[39m\n",
      "  Compostition statistics | \u001b[32m1500254  \u001b[39m\u001b[36m1500254\u001b[39m\n",
      "  Validity checks         | \u001b[32m      5  \u001b[39m\u001b[36m      5\u001b[39m\n",
      "  Solution helpers        | \u001b[32m   4250  \u001b[39m\u001b[36m   4250\u001b[39m\n"
     ]
    },
    {
     "data": {
      "text/plain": [
       "Main.SudokuTester"
      ]
     },
     "execution_count": 2,
     "metadata": {},
     "output_type": "execute_result"
    }
   ],
   "source": [
    "include(\"test/sudoku_tester.jl\")"
   ]
  },
  {
   "cell_type": "code",
   "execution_count": 3,
   "id": "47526dd8",
   "metadata": {},
   "outputs": [
    {
     "name": "stdout",
     "output_type": "stream",
     "text": [
      "-----------------------\n",
      "||3|4|2||9|7|6||1|5|8||\n",
      "||6|7|9||1|5|8||4|3|2||\n",
      "||5|1|8||2|4|3||9|7|6||\n",
      "-----------------------\n",
      "||8|5|1||4|3|2||7|6|9||\n",
      "||2|3|4||7|6|9||5|8|1||\n",
      "||9|6|7||5|8|1||3|2|4||\n",
      "-----------------------\n",
      "||1|8|5||3|2|4||6|9|7||\n",
      "||4|2|3||6|9|7||8|1|5||\n",
      "||7|9|6||8|1|5||2|4|3||\n",
      "-----------------------\n",
      "-----------------------\n",
      "||3|4| ||9|7|6||1|5|8||\n",
      "||6|7|9|| | |8||4|3|2||\n",
      "||5|1| ||2|4| ||9|7| ||\n",
      "-----------------------\n",
      "|| |5|1||4| |2||7|6| ||\n",
      "||2| |4|| | |9||5|8| ||\n",
      "||9|6|7|| |8|1||3|2| ||\n",
      "-----------------------\n",
      "||1|8|5|| |2| ||6|9|7||\n",
      "||4|2|3||6|9|7||8|1| ||\n",
      "||7|9|6||8|1|5||2| | ||\n",
      "-----------------------\n",
      "\n",
      "-----------------------\n",
      "||3|4|2||9|7|6||1|5|8||\n",
      "||6|7|9||1|5|8||4|3|2||\n",
      "||5|1|8||2|4|3||9|7|6||\n",
      "-----------------------\n",
      "||8|5|1||4|3|2||7|6|9||\n",
      "||2|3|4||7|6|9||5|8|1||\n",
      "||9|6|7||5|8|1||3|2|4||\n",
      "-----------------------\n",
      "||1|8|5||3|2|4||6|9|7||\n",
      "||4|2|3||6|9|7||8|1|5||\n",
      "||7|9|6||8|1|5||2|4|3||\n",
      "-----------------------\n"
     ]
    }
   ],
   "source": [
    "using Random\n",
    "solution, puzzle = Sudoku.random_puzzle(3,MersenneTwister(12345),1000,20)\n",
    "print(Sudoku.as_text_grid(solution))\n",
    "print(Sudoku.as_text_grid(puzzle))\n",
    "iterations, uncertainty = Sudoku.solve_puzzle!(puzzle)\n",
    "print('\\n')\n",
    "print(Sudoku.as_text_grid(puzzle))"
   ]
  },
  {
   "cell_type": "code",
   "execution_count": 4,
   "id": "9d872fe6",
   "metadata": {},
   "outputs": [
    {
     "data": {
      "text/plain": [
       "true"
      ]
     },
     "execution_count": 4,
     "metadata": {},
     "output_type": "execute_result"
    }
   ],
   "source": [
    "Sudoku.as_values(puzzle) == Sudoku.as_values(solution)"
   ]
  },
  {
   "cell_type": "code",
   "execution_count": 5,
   "id": "8b6147af",
   "metadata": {},
   "outputs": [
    {
     "name": "stdout",
     "output_type": "stream",
     "text": [
      "\n",
      "Unsolved puzzle\n",
      "-----------------------\n",
      "||5|3| || |7| || | | ||\n",
      "||6| | ||1|9|5|| | | ||\n",
      "|| |9|8|| | | || |6| ||\n",
      "-----------------------\n",
      "||8| | || |6| || | |3||\n",
      "||4| | ||8| |3|| | |1||\n",
      "||7| | || |2| || | |6||\n",
      "-----------------------\n",
      "|| |6| || | | ||2|8| ||\n",
      "|| | | ||4|1|9|| | |5||\n",
      "|| | | || |8| || |7|9||\n",
      "-----------------------\n",
      "\n",
      "\n",
      "Solution after 7 steps\n",
      "-----------------------\n",
      "||5|3|4||6|7|8||9|1|2||\n",
      "||6|7|2||1|9|5||3|4|8||\n",
      "||1|9|8||3|4|2||5|6|7||\n",
      "-----------------------\n",
      "||8|5|9||7|6|1||4|2|3||\n",
      "||4|2|6||8|5|3||7|9|1||\n",
      "||7|1|3||9|2|4||8|5|6||\n",
      "-----------------------\n",
      "||9|6|1||5|3|7||2|8|4||\n",
      "||2|8|7||4|1|9||6|3|5||\n",
      "||3|4|5||2|8|6||1|7|9||\n",
      "-----------------------\n"
     ]
    }
   ],
   "source": [
    "# Puzzle example from\n",
    "# https://en.wikipedia.org/wiki/Sudoku accessed 1/1/2022\n",
    "# Puzzle image license is CC0 (Public Domain Dedication) per\n",
    "# https://en.wikipedia.org/wiki/Sudoku#/media/File:Sudoku_Puzzle_by_L2G-20050714_standardized_layout.svg\n",
    "puzzle_values = [\n",
    "    5 3 0 0 7 0 0 0 0;\n",
    "    6 0 0 1 9 5 0 0 0;\n",
    "    0 9 8 0 0 0 0 6 0;\n",
    "    8 0 0 0 6 0 0 0 3;\n",
    "    4 0 0 8 0 3 0 0 1;\n",
    "    7 0 0 0 2 0 0 0 6;\n",
    "    0 6 0 0 0 0 2 8 0;\n",
    "    0 0 0 4 1 9 0 0 5;\n",
    "    0 0 0 0 8 0 0 7 9]\n",
    "puzzle = Sudoku.SolvablePuzzle(3)\n",
    "Sudoku.assign_values!(puzzle,puzzle_values)\n",
    "print(\"\\nUnsolved puzzle\\n\")\n",
    "print(Sudoku.as_text_grid(puzzle))\n",
    "iterations, uncertainty = Sudoku.solve_puzzle!(puzzle)\n",
    "print(\"\\n\\nSolution after $iterations steps\\n\")\n",
    "print(Sudoku.as_text_grid(puzzle))"
   ]
  },
  {
   "cell_type": "code",
   "execution_count": 6,
   "id": "064dac3c",
   "metadata": {},
   "outputs": [
    {
     "data": {
      "text/plain": [
       "true"
      ]
     },
     "execution_count": 6,
     "metadata": {},
     "output_type": "execute_result"
    }
   ],
   "source": [
    "# Solution image is CC BY-SA 3.0 (Attribution-ShareAlike) per\n",
    "# https://en.wikipedia.org/wiki/Sudoku#/media/File:Sudoku_Puzzle_by_L2G-20050714_solution_standardized_layout.svg\n",
    "#\n",
    "# It is an exercise for reader to compare the calculated solution to the reference\n",
    "validity = Sudoku.valid_puzzle(Sudoku.as_values(puzzle))"
   ]
  },
  {
   "cell_type": "code",
   "execution_count": null,
   "id": "0a5c8854",
   "metadata": {},
   "outputs": [],
   "source": []
  }
 ],
 "metadata": {
  "kernelspec": {
   "display_name": "Julia 1.7.1",
   "language": "julia",
   "name": "julia-1.7"
  },
  "language_info": {
   "file_extension": ".jl",
   "mimetype": "application/julia",
   "name": "julia",
   "version": "1.7.1"
  }
 },
 "nbformat": 4,
 "nbformat_minor": 5
}
