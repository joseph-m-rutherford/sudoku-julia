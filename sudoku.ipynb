{
 "cells": [
  {
   "cell_type": "markdown",
   "id": "8e76fa59",
   "metadata": {},
   "source": [
    "Copyright (c) 2021, Joseph M. Rutherford\n",
    "All rights reserved.\n",
    "\n",
    "Code provided under the license contained in the LICENSE file."
   ]
  },
  {
   "cell_type": "code",
   "execution_count": 1,
   "id": "bd03279d-982c-461c-81e5-9fc2f87715d8",
   "metadata": {},
   "outputs": [
    {
     "data": {
      "text/plain": [
       "Main.Sudoku"
      ]
     },
     "execution_count": 1,
     "metadata": {},
     "output_type": "execute_result"
    }
   ],
   "source": [
    "include(\"sudoku.jl\")"
   ]
  },
  {
   "cell_type": "code",
   "execution_count": 2,
   "id": "27c3e1cc",
   "metadata": {},
   "outputs": [
    {
     "name": "stdout",
     "output_type": "stream",
     "text": [
      "\u001b[0m\u001b[1mTest Summary:             | \u001b[22m\u001b[32m\u001b[1mPass  \u001b[22m\u001b[39m\u001b[36m\u001b[1mTotal\u001b[22m\u001b[39m\n",
      "Sudoku Puzzle definitions | \u001b[32m  75  \u001b[39m\u001b[36m   75\u001b[39m\n",
      "\u001b[0m\u001b[1mTest Summary:      | \u001b[22m\u001b[32m\u001b[1mPass  \u001b[22m\u001b[39m\u001b[36m\u001b[1mTotal\u001b[22m\u001b[39m\n",
      "Permutations check | \u001b[32m   6  \u001b[39m\u001b[36m    6\u001b[39m\n",
      "\u001b[0m\u001b[1mTest Summary:                  | \u001b[22m\u001b[32m\u001b[1m  Pass  \u001b[22m\u001b[39m\u001b[36m\u001b[1m Total\u001b[22m\u001b[39m\n",
      "Composition helpers statistics | \u001b[32m667083  \u001b[39m\u001b[36m667083\u001b[39m\n",
      "\u001b[0m\u001b[1mTest Summary:          | \u001b[22m\u001b[32m\u001b[1mPass  \u001b[22m\u001b[39m\u001b[36m\u001b[1mTotal\u001b[22m\u001b[39m\n",
      "Puzzle validity checks | \u001b[32m   5  \u001b[39m\u001b[36m    5\u001b[39m\n"
     ]
    },
    {
     "data": {
      "text/plain": [
       "Main.SudokuTester"
      ]
     },
     "execution_count": 2,
     "metadata": {},
     "output_type": "execute_result"
    }
   ],
   "source": [
    "include(\"sudoku_tester.jl\")"
   ]
  },
  {
   "cell_type": "code",
   "execution_count": 3,
   "id": "9aac29d4-4e40-46fa-9d5c-4a29ca56aa64",
   "metadata": {
    "scrolled": true
   },
   "outputs": [
    {
     "name": "stdout",
     "output_type": "stream",
     "text": [
      "-----------------------\n",
      "||1|7|4||8|5|2||6|3|9||\n",
      "||3|9|6||1|7|4||8|5|2||\n",
      "||2|8|5||9|6|3||7|4|1||\n",
      "-----------------------\n",
      "||7|4|1||5|2|8||3|9|6||\n",
      "||9|6|3||7|4|1||5|2|8||\n",
      "||8|5|2||6|3|9||4|1|7||\n",
      "-----------------------\n",
      "||4|1|7||2|8|5||9|6|3||\n",
      "||5|2|8||3|9|6||1|7|4||\n",
      "||6|3|9||4|1|7||2|8|5||\n",
      "-----------------------\n"
     ]
    }
   ],
   "source": [
    "using Random\n",
    "rng = MersenneTwister(12345)\n",
    "sp = Sudoku.random_solution(3,rng,1000)\n",
    "print(Sudoku.as_text_grid(sp))"
   ]
  },
  {
   "cell_type": "code",
   "execution_count": 4,
   "id": "47526dd8",
   "metadata": {},
   "outputs": [
    {
     "name": "stdout",
     "output_type": "stream",
     "text": [
      "-----------------------\n",
      "||1|7| ||8|5|2|| |3|9||\n",
      "||3|9|6|| | |4||8|5|2||\n",
      "|| |8| ||9|6| || |4| ||\n",
      "-----------------------\n",
      "|| |4|1||5|2|8||3|9| ||\n",
      "||9| |3|| |4| || |2| ||\n",
      "||8|5|2|| | |9|| |1| ||\n",
      "-----------------------\n",
      "||4| |7|| |8| ||9|6|3||\n",
      "||5|2|8|| |9|6||1| | ||\n",
      "||6|3|9||4| |7|| | | ||\n",
      "-----------------------\n"
     ]
    }
   ],
   "source": [
    "Sudoku.random_puzzle!(sp,rng,30)\n",
    "print(Sudoku.as_text_grid(sp))"
   ]
  },
  {
   "cell_type": "code",
   "execution_count": 5,
   "id": "ec657fb5",
   "metadata": {},
   "outputs": [
    {
     "name": "stdout",
     "output_type": "stream",
     "text": [
      "Iteration 2 Uncertainty 0\n",
      "-----------------------\n",
      "||1|7|4||8|5|2||6|3|9||\n",
      "||3|9|6||1|7|4||8|5|2||\n",
      "||2|8|5||9|6|3||7|4|1||\n",
      "-----------------------\n",
      "||7|4|1||5|2|8||3|9|6||\n",
      "||9|6|3||7|4|1||5|2|8||\n",
      "||8|5|2||6|3|9||4|1|7||\n",
      "-----------------------\n",
      "||4|1|7||2|8|5||9|6|3||\n",
      "||5|2|8||3|9|6||1|7|4||\n",
      "||6|3|9||4|1|7||2|8|5||\n",
      "-----------------------\n"
     ]
    }
   ],
   "source": [
    "Sudoku.solve_puzzle!(sp)\n",
    "print('\\n')\n",
    "print(Sudoku.as_text_grid(sp))"
   ]
  },
  {
   "cell_type": "code",
   "execution_count": null,
   "id": "cb4063b7",
   "metadata": {},
   "outputs": [],
   "source": []
  }
 ],
 "metadata": {
  "kernelspec": {
   "display_name": "Julia 1.6.4",
   "language": "julia",
   "name": "julia-1.6"
  },
  "language_info": {
   "file_extension": ".jl",
   "mimetype": "application/julia",
   "name": "julia",
   "version": "1.6.4"
  }
 },
 "nbformat": 4,
 "nbformat_minor": 5
}
