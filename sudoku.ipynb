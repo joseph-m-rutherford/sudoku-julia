{
 "cells": [
  {
   "cell_type": "markdown",
   "id": "8e76fa59",
   "metadata": {},
   "source": [
    "Copyright (c) 2021, Joseph M. Rutherford\n",
    "All rights reserved.\n",
    "\n",
    "Code provided under the license contained in the LICENSE file."
   ]
  },
  {
   "cell_type": "code",
   "execution_count": 1,
   "id": "bd03279d-982c-461c-81e5-9fc2f87715d8",
   "metadata": {},
   "outputs": [
    {
     "name": "stdout",
     "output_type": "stream",
     "text": [
      "\u001b[0m\u001b[1mTest Summary:             | \u001b[22m\u001b[32m\u001b[1mPass  \u001b[22m\u001b[39m\u001b[36m\u001b[1mTotal\u001b[22m\u001b[39m\n",
      "Sudoku Puzzle definitions | \u001b[32m  75  \u001b[39m\u001b[36m   75\u001b[39m\n",
      "\u001b[0m\u001b[1mTest Summary:      | \u001b[22m\u001b[32m\u001b[1mPass  \u001b[22m\u001b[39m\u001b[36m\u001b[1mTotal\u001b[22m\u001b[39m\n",
      "Permutations check | \u001b[32m   6  \u001b[39m\u001b[36m    6\u001b[39m\n",
      "\u001b[0m\u001b[1mTest Summary:          | \u001b[22m\u001b[32m\u001b[1mPass  \u001b[22m\u001b[39m\u001b[36m\u001b[1mTotal\u001b[22m\u001b[39m\n",
      "Puzzle validity checks | \u001b[32m   5  \u001b[39m\u001b[36m    5\u001b[39m\n"
     ]
    },
    {
     "data": {
      "text/plain": [
       "Main.Sudoku"
      ]
     },
     "execution_count": 1,
     "metadata": {},
     "output_type": "execute_result"
    }
   ],
   "source": [
    "module Sudoku\n",
    "\n",
    "include(\"sudoku_common.jl\")\n",
    "include(\"sudoku_display.jl\")\n",
    "include(\"sudoku_permute.jl\")\n",
    "include(\"sudoku_valid.jl\")\n",
    "include(\"sudoku_solve.jl\")\n",
    "\n",
    "include(\"sudoku_common_test.jl\")\n",
    "include(\"sudoku_permute_test.jl\")\n",
    "include(\"sudoku_valid_test.jl\")\n",
    "\n",
    "end"
   ]
  },
  {
   "cell_type": "code",
   "execution_count": 2,
   "id": "9aac29d4-4e40-46fa-9d5c-4a29ca56aa64",
   "metadata": {},
   "outputs": [
    {
     "name": "stdout",
     "output_type": "stream",
     "text": [
      "-----------------------\n",
      "||1|4|7||2|5|8||3|6|9||\n",
      "||2|5|8||3|6|9||4|7|1||\n",
      "||3|6|9||4|7|1||5|8|2||\n",
      "-----------------------\n",
      "||4|7|1||5|8|2||6|9|3||\n",
      "||5|8|2||6|9|3||7|1|4||\n",
      "||6|9|3||7|1|4||8|2|5||\n",
      "-----------------------\n",
      "||7|1|4||8|2|5||9|3|6||\n",
      "||8|2|5||9|3|6||1|4|7||\n",
      "||9|3|6||1|4|7||2|5|8||\n",
      "-----------------------\n"
     ]
    }
   ],
   "source": [
    "sp = Sudoku.SolvablePuzzle(3)\n",
    "print(Sudoku.as_text_grid(sp))"
   ]
  },
  {
   "cell_type": "code",
   "execution_count": 3,
   "id": "1a855dc0",
   "metadata": {},
   "outputs": [
    {
     "name": "stdout",
     "output_type": "stream",
     "text": [
      "-----------------------\n",
      "|| | |7||2|5|8||3|6|9||\n",
      "||2|5|8|| |6| ||4|7|1||\n",
      "||3|6|9||4|7|1||5| | ||\n",
      "-----------------------\n",
      "||4|7|1||5|8|2|| | |3||\n",
      "||5|8|2|| |9| ||7|1|4||\n",
      "||6| | ||7|1|4||8|2|5||\n",
      "-----------------------\n",
      "|| | |4||8|2|5||9|3|6||\n",
      "||8|2|5|| | |6||1|4|7||\n",
      "||9|3|6||1|4|7||2| | ||\n",
      "-----------------------\n"
     ]
    }
   ],
   "source": [
    "Sudoku.set_unknown(sp,1,1)\n",
    "Sudoku.set_unknown(sp,1,2)\n",
    "Sudoku.set_unknown(sp,2,4)\n",
    "Sudoku.set_unknown(sp,2,6)\n",
    "Sudoku.set_unknown(sp,3,8)\n",
    "Sudoku.set_unknown(sp,3,9)\n",
    "Sudoku.set_unknown(sp,4,8)\n",
    "Sudoku.set_unknown(sp,4,7)\n",
    "Sudoku.set_unknown(sp,5,6)\n",
    "Sudoku.set_unknown(sp,5,4)\n",
    "Sudoku.set_unknown(sp,6,3)\n",
    "Sudoku.set_unknown(sp,6,2)\n",
    "Sudoku.set_unknown(sp,7,1)\n",
    "Sudoku.set_unknown(sp,7,2)\n",
    "Sudoku.set_unknown(sp,8,4)\n",
    "Sudoku.set_unknown(sp,8,5)\n",
    "Sudoku.set_unknown(sp,9,8)\n",
    "Sudoku.set_unknown(sp,9,9)\n",
    "print(Sudoku.as_text_grid(sp))"
   ]
  },
  {
   "cell_type": "code",
   "execution_count": 4,
   "id": "7d3a34d8",
   "metadata": {},
   "outputs": [
    {
     "data": {
      "text/plain": [
       "0x00000000000000a2"
      ]
     },
     "execution_count": 4,
     "metadata": {},
     "output_type": "execute_result"
    }
   ],
   "source": [
    "u = Sudoku.uncertainty(sp)"
   ]
  },
  {
   "cell_type": "code",
   "execution_count": 5,
   "id": "a7489a39",
   "metadata": {},
   "outputs": [
    {
     "name": "stdout",
     "output_type": "stream",
     "text": [
      "Iteration 2 Uncertainty 0"
     ]
    }
   ],
   "source": [
    "Sudoku.solve_puzzle!(sp)"
   ]
  },
  {
   "cell_type": "code",
   "execution_count": 6,
   "id": "9faa89b2",
   "metadata": {},
   "outputs": [
    {
     "name": "stdout",
     "output_type": "stream",
     "text": [
      "-----------------------\n",
      "||1|4|7||2|5|8||3|6|9||\n",
      "||2|5|8||3|6|9||4|7|1||\n",
      "||3|6|9||4|7|1||5|8|2||\n",
      "-----------------------\n",
      "||4|7|1||5|8|2||6|9|3||\n",
      "||5|8|2||6|9|3||7|1|4||\n",
      "||6|9|3||7|1|4||8|2|5||\n",
      "-----------------------\n",
      "||7|1|4||8|2|5||9|3|6||\n",
      "||8|2|5||9|3|6||1|4|7||\n",
      "||9|3|6||1|4|7||2|5|8||\n",
      "-----------------------\n"
     ]
    }
   ],
   "source": [
    "print(Sudoku.as_text_grid(sp))"
   ]
  },
  {
   "cell_type": "code",
   "execution_count": null,
   "id": "d4dddc0a",
   "metadata": {},
   "outputs": [],
   "source": []
  }
 ],
 "metadata": {
  "kernelspec": {
   "display_name": "Julia 1.6.4",
   "language": "julia",
   "name": "julia-1.6"
  },
  "language_info": {
   "file_extension": ".jl",
   "mimetype": "application/julia",
   "name": "julia",
   "version": "1.6.4"
  }
 },
 "nbformat": 4,
 "nbformat_minor": 5
}
